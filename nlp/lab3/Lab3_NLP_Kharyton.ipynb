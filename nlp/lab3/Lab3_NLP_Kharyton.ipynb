{
 "cells": [
  {
   "cell_type": "markdown",
   "id": "bd96dbef",
   "metadata": {},
   "source": [
    "# Lab 3"
   ]
  },
  {
   "cell_type": "markdown",
   "id": "f5c9c359",
   "metadata": {},
   "source": [
    "## Task 1."
   ]
  },
  {
   "cell_type": "markdown",
   "id": "c9d7f827",
   "metadata": {},
   "source": [
    "### Wagner-Fischer (or Vintsyuk algorithm) for string distance"
   ]
  },
  {
   "cell_type": "code",
   "execution_count": 256,
   "id": "a11a51b7",
   "metadata": {},
   "outputs": [],
   "source": [
    "def levenstein(s1, s2):\n",
    "    m, n = len(s1), len(s2)\n",
    "    d = [[0] * (n + 1) for _ in range(m + 1)]\n",
    "    for i in range(m + 1):\n",
    "        d[i][0] = i\n",
    "    for j in range(n + 1):\n",
    "        d[0][j] = j\n",
    "        \n",
    "    for i in range(1, m + 1):\n",
    "        for j in range(1, n + 1):\n",
    "            if s1[i - 1] == s2[j - 1]:\n",
    "                cost = 0\n",
    "            else:\n",
    "                cost = 1\n",
    "            d[i][j] = min(d[i-1][j] + 1,\n",
    "                          d[i][j-1] + 1,\n",
    "                          d[i-1][j-1] + cost)\n",
    "    return d[m][n]"
   ]
  },
  {
   "cell_type": "code",
   "execution_count": 257,
   "id": "feba68aa",
   "metadata": {},
   "outputs": [
    {
     "data": {
      "text/plain": [
       "1"
      ]
     },
     "execution_count": 257,
     "metadata": {},
     "output_type": "execute_result"
    }
   ],
   "source": [
    "distance = levenstein(\"cat\", \"bat\")\n",
    "distance"
   ]
  },
  {
   "cell_type": "markdown",
   "id": "441ef61f",
   "metadata": {},
   "source": [
    "### Modified algorithm"
   ]
  },
  {
   "cell_type": "code",
   "execution_count": 258,
   "id": "a17a1c46",
   "metadata": {},
   "outputs": [],
   "source": [
    "distance_dict = {}\n",
    "with open('keys.txt', 'r') as f:\n",
    "    for line in f:\n",
    "        parts = line.split()\n",
    "        if len(parts) >= 3:\n",
    "            key = (parts[0].lower(), parts[1].lower())\n",
    "            try:\n",
    "                value = float(parts[2])\n",
    "            except ValueError:\n",
    "                continue\n",
    "            distance_dict[key] = value"
   ]
  },
  {
   "cell_type": "code",
   "execution_count": 259,
   "id": "4c4059ba",
   "metadata": {},
   "outputs": [],
   "source": [
    "def letter_dist(i,j):\n",
    "    return distance_dict[(i,j)]"
   ]
  },
  {
   "cell_type": "code",
   "execution_count": 260,
   "id": "35cd30c6",
   "metadata": {},
   "outputs": [
    {
     "data": {
      "text/plain": [
       "2"
      ]
     },
     "execution_count": 260,
     "metadata": {},
     "output_type": "execute_result"
    }
   ],
   "source": [
    "def modified_levenstein(s1, s2):\n",
    "    m, n = len(s1), len(s2)\n",
    "    d = [[0] * (n + 1) for _ in range(m + 1)]\n",
    "    for i in range(m + 1):\n",
    "        d[i][0] = i\n",
    "    for j in range(n + 1):\n",
    "        d[0][j] = j\n",
    "\n",
    "    for i in range(1, m + 1):\n",
    "        for j in range(1, n + 1):\n",
    "            if s1[i - 1] == s2[j - 1]:\n",
    "                cost = 0\n",
    "            else:\n",
    "                cost = letter_dist(s1[i - 1].lower(), s2[j - 1].lower())\n",
    "            d[i][j] = min(d[i-1][j] + 1,\n",
    "                          d[i][j-1] + 1,\n",
    "                          d[i-1][j-1] + cost)\n",
    "    return d[m][n]\n",
    "\n",
    "distance = modified_levenstein(\"cat\", \"bat\")\n",
    "distance\n"
   ]
  },
  {
   "cell_type": "markdown",
   "id": "6fbc7b84",
   "metadata": {},
   "source": [
    "### Modified damerau levenstein"
   ]
  },
  {
   "cell_type": "code",
   "execution_count": 262,
   "id": "8c995ab7",
   "metadata": {},
   "outputs": [
    {
     "data": {
      "text/plain": [
       "2"
      ]
     },
     "execution_count": 262,
     "metadata": {},
     "output_type": "execute_result"
    }
   ],
   "source": [
    "def modified_damerau_levenstein(s1, s2):\n",
    "    m, n = len(s1), len(s2)\n",
    "    d = [[0] * (n + 1) for _ in range(m + 1)]\n",
    "    for i in range(m + 1):\n",
    "        d[i][0] = i\n",
    "    for j in range(n + 1):\n",
    "        d[0][j] = j\n",
    "\n",
    "    for i in range(1, m + 1):\n",
    "        for j in range(1, n + 1):\n",
    "            if s1[i - 1] == s2[j - 1]:\n",
    "                cost = 0\n",
    "            else:\n",
    "                cost = letter_dist(s1[i - 1].lower(), s2[j - 1].lower())\n",
    "            \n",
    "            d[i][j] = min(d[i-1][j] + 1,\n",
    "                          d[i][j-1] + 1,\n",
    "                          d[i-1][j-1] + cost)\n",
    "            \n",
    "            if i > 1 and j > 1 and s1[i - 1] == s2[j - 2] and s1[i - 2] == s2[j - 1]:\n",
    "                d[i][j] = min(d[i][j], d[i-2][j-2] + cost)\n",
    "\n",
    "    return d[m][n]\n",
    "\n",
    "distance = modified_damerau_levenstein(\"cat\", \"bat\")\n",
    "distance"
   ]
  },
  {
   "cell_type": "markdown",
   "id": "4656b963",
   "metadata": {},
   "source": [
    "## Task 2"
   ]
  },
  {
   "cell_type": "code",
   "execution_count": 263,
   "id": "d571b915",
   "metadata": {},
   "outputs": [],
   "source": [
    "import nltk\n",
    "import numpy as np\n",
    "from nltk.corpus import stopwords\n",
    "from nltk.tokenize import word_tokenize"
   ]
  },
  {
   "cell_type": "code",
   "execution_count": 264,
   "id": "3c50a931",
   "metadata": {},
   "outputs": [],
   "source": [
    "from nltk.book import *"
   ]
  },
  {
   "cell_type": "code",
   "execution_count": 265,
   "id": "f46c548f",
   "metadata": {},
   "outputs": [],
   "source": [
    "import nltk\n",
    "from nltk.book import text1, text3\n",
    "from collections import Counter\n",
    "\n",
    "all_tokens = text1.tokens + text3.tokens\n",
    "normalized_tokens = [token.lower() for token in all_tokens if token.isalpha()]\n",
    "vocabulary = set(normalized_tokens)"
   ]
  },
  {
   "cell_type": "code",
   "execution_count": 266,
   "id": "2369c1ff",
   "metadata": {},
   "outputs": [],
   "source": [
    "def create_bow_vector(d, vocabulary):\n",
    "    count_d = Counter([token.lower() for token in d if token.isalpha()])\n",
    "    return np.array([count_d[word] for word in vocabulary])"
   ]
  },
  {
   "cell_type": "code",
   "execution_count": 267,
   "id": "8bb7314f",
   "metadata": {},
   "outputs": [],
   "source": [
    "vector_d1 = create_bow_vector(text1, vocabulary)\n",
    "vector_d3 = create_bow_vector(text3, vocabulary)"
   ]
  },
  {
   "cell_type": "code",
   "execution_count": 268,
   "id": "167c61af",
   "metadata": {},
   "outputs": [
    {
     "data": {
      "text/plain": [
       "90153433"
      ]
     },
     "execution_count": 268,
     "metadata": {},
     "output_type": "execute_result"
    }
   ],
   "source": [
    "dot_product = np.dot(vector_d1, vector_d3)\n",
    "dot_product"
   ]
  },
  {
   "cell_type": "code",
   "execution_count": null,
   "id": "d98a7655",
   "metadata": {},
   "outputs": [],
   "source": []
  }
 ],
 "metadata": {
  "kernelspec": {
   "display_name": "Python 3 (ipykernel)",
   "language": "python",
   "name": "python3"
  },
  "language_info": {
   "codemirror_mode": {
    "name": "ipython",
    "version": 3
   },
   "file_extension": ".py",
   "mimetype": "text/x-python",
   "name": "python",
   "nbconvert_exporter": "python",
   "pygments_lexer": "ipython3",
   "version": "3.11.5"
  }
 },
 "nbformat": 4,
 "nbformat_minor": 5
}

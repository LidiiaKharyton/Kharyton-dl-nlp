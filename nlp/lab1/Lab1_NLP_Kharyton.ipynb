{
 "cells": [
  {
   "cell_type": "code",
   "execution_count": 1,
   "id": "5e179026",
   "metadata": {},
   "outputs": [
    {
     "name": "stdout",
     "output_type": "stream",
     "text": [
      "Requirement already satisfied: nltk in ./anaconda3/lib/python3.11/site-packages (3.8.1)\r\n",
      "Requirement already satisfied: click in ./anaconda3/lib/python3.11/site-packages (from nltk) (8.0.4)\r\n",
      "Requirement already satisfied: joblib in ./anaconda3/lib/python3.11/site-packages (from nltk) (1.2.0)\r\n",
      "Requirement already satisfied: regex>=2021.8.3 in ./anaconda3/lib/python3.11/site-packages (from nltk) (2022.7.9)\r\n",
      "Requirement already satisfied: tqdm in ./anaconda3/lib/python3.11/site-packages (from nltk) (4.65.0)\r\n"
     ]
    }
   ],
   "source": [
    "!pip install nltk"
   ]
  },
  {
   "cell_type": "code",
   "execution_count": 9,
   "id": "ddcfa569",
   "metadata": {},
   "outputs": [
    {
     "name": "stderr",
     "output_type": "stream",
     "text": [
      "[nltk_data] Downloading package nps_chat to\n",
      "[nltk_data]     /Users/lidaharyton/nltk_data...\n",
      "[nltk_data]   Unzipping corpora/nps_chat.zip.\n"
     ]
    },
    {
     "data": {
      "text/plain": [
       "True"
      ]
     },
     "execution_count": 9,
     "metadata": {},
     "output_type": "execute_result"
    }
   ],
   "source": [
    "import nltk\n",
    "nltk.download('nps_chat')"
   ]
  },
  {
   "cell_type": "code",
   "execution_count": 10,
   "id": "930d49fd",
   "metadata": {},
   "outputs": [
    {
     "name": "stderr",
     "output_type": "stream",
     "text": [
      "[nltk_data] Downloading collection 'popular'\n",
      "[nltk_data]    | \n",
      "[nltk_data]    | Downloading package cmudict to\n",
      "[nltk_data]    |     /Users/lidaharyton/nltk_data...\n",
      "[nltk_data]    |   Package cmudict is already up-to-date!\n",
      "[nltk_data]    | Downloading package gazetteers to\n",
      "[nltk_data]    |     /Users/lidaharyton/nltk_data...\n",
      "[nltk_data]    |   Package gazetteers is already up-to-date!\n",
      "[nltk_data]    | Downloading package genesis to\n",
      "[nltk_data]    |     /Users/lidaharyton/nltk_data...\n",
      "[nltk_data]    |   Package genesis is already up-to-date!\n",
      "[nltk_data]    | Downloading package gutenberg to\n",
      "[nltk_data]    |     /Users/lidaharyton/nltk_data...\n",
      "[nltk_data]    |   Package gutenberg is already up-to-date!\n",
      "[nltk_data]    | Downloading package inaugural to\n",
      "[nltk_data]    |     /Users/lidaharyton/nltk_data...\n",
      "[nltk_data]    |   Package inaugural is already up-to-date!\n",
      "[nltk_data]    | Downloading package movie_reviews to\n",
      "[nltk_data]    |     /Users/lidaharyton/nltk_data...\n",
      "[nltk_data]    |   Package movie_reviews is already up-to-date!\n",
      "[nltk_data]    | Downloading package names to\n",
      "[nltk_data]    |     /Users/lidaharyton/nltk_data...\n",
      "[nltk_data]    |   Package names is already up-to-date!\n",
      "[nltk_data]    | Downloading package shakespeare to\n",
      "[nltk_data]    |     /Users/lidaharyton/nltk_data...\n",
      "[nltk_data]    |   Package shakespeare is already up-to-date!\n",
      "[nltk_data]    | Downloading package stopwords to\n",
      "[nltk_data]    |     /Users/lidaharyton/nltk_data...\n",
      "[nltk_data]    |   Package stopwords is already up-to-date!\n",
      "[nltk_data]    | Downloading package treebank to\n",
      "[nltk_data]    |     /Users/lidaharyton/nltk_data...\n",
      "[nltk_data]    |   Package treebank is already up-to-date!\n",
      "[nltk_data]    | Downloading package twitter_samples to\n",
      "[nltk_data]    |     /Users/lidaharyton/nltk_data...\n",
      "[nltk_data]    |   Package twitter_samples is already up-to-date!\n",
      "[nltk_data]    | Downloading package omw to\n",
      "[nltk_data]    |     /Users/lidaharyton/nltk_data...\n",
      "[nltk_data]    |   Package omw is already up-to-date!\n",
      "[nltk_data]    | Downloading package omw-1.4 to\n",
      "[nltk_data]    |     /Users/lidaharyton/nltk_data...\n",
      "[nltk_data]    |   Package omw-1.4 is already up-to-date!\n",
      "[nltk_data]    | Downloading package wordnet to\n",
      "[nltk_data]    |     /Users/lidaharyton/nltk_data...\n",
      "[nltk_data]    |   Package wordnet is already up-to-date!\n",
      "[nltk_data]    | Downloading package wordnet2021 to\n",
      "[nltk_data]    |     /Users/lidaharyton/nltk_data...\n",
      "[nltk_data]    |   Package wordnet2021 is already up-to-date!\n",
      "[nltk_data]    | Downloading package wordnet31 to\n",
      "[nltk_data]    |     /Users/lidaharyton/nltk_data...\n",
      "[nltk_data]    |   Package wordnet31 is already up-to-date!\n",
      "[nltk_data]    | Downloading package wordnet_ic to\n",
      "[nltk_data]    |     /Users/lidaharyton/nltk_data...\n",
      "[nltk_data]    |   Package wordnet_ic is already up-to-date!\n",
      "[nltk_data]    | Downloading package words to\n",
      "[nltk_data]    |     /Users/lidaharyton/nltk_data...\n",
      "[nltk_data]    |   Package words is already up-to-date!\n",
      "[nltk_data]    | Downloading package maxent_ne_chunker to\n",
      "[nltk_data]    |     /Users/lidaharyton/nltk_data...\n",
      "[nltk_data]    |   Package maxent_ne_chunker is already up-to-date!\n",
      "[nltk_data]    | Downloading package punkt to\n",
      "[nltk_data]    |     /Users/lidaharyton/nltk_data...\n",
      "[nltk_data]    |   Unzipping tokenizers/punkt.zip.\n",
      "[nltk_data]    | Downloading package snowball_data to\n",
      "[nltk_data]    |     /Users/lidaharyton/nltk_data...\n",
      "[nltk_data]    | Downloading package averaged_perceptron_tagger to\n",
      "[nltk_data]    |     /Users/lidaharyton/nltk_data...\n",
      "[nltk_data]    |   Unzipping taggers/averaged_perceptron_tagger.zip.\n",
      "[nltk_data]    | \n",
      "[nltk_data]  Done downloading collection popular\n"
     ]
    },
    {
     "data": {
      "text/plain": [
       "True"
      ]
     },
     "execution_count": 10,
     "metadata": {},
     "output_type": "execute_result"
    }
   ],
   "source": [
    "nltk.download('popular')"
   ]
  },
  {
   "cell_type": "code",
   "execution_count": 15,
   "id": "456434a5",
   "metadata": {},
   "outputs": [
    {
     "name": "stderr",
     "output_type": "stream",
     "text": [
      "[nltk_data] Downloading package nps_chat to\n",
      "[nltk_data]     /Users/lidaharyton/nltk_data...\n",
      "[nltk_data]   Package nps_chat is already up-to-date!\n",
      "[nltk_data] Downloading package webtext to\n",
      "[nltk_data]     /Users/lidaharyton/nltk_data...\n",
      "[nltk_data]   Unzipping corpora/webtext.zip.\n"
     ]
    },
    {
     "name": "stdout",
     "output_type": "stream",
     "text": [
      "*** Introductory Examples for the NLTK Book ***\n",
      "Loading text1, ..., text9 and sent1, ..., sent9\n",
      "Type the name of the text or sentence to view it.\n",
      "Type: 'texts()' or 'sents()' to list the materials.\n",
      "text1: Moby Dick by Herman Melville 1851\n",
      "text2: Sense and Sensibility by Jane Austen 1811\n",
      "text3: The Book of Genesis\n",
      "text4: Inaugural Address Corpus\n",
      "text5: Chat Corpus\n",
      "text6: Monty Python and the Holy Grail\n",
      "text7: Wall Street Journal\n",
      "text8: Personals Corpus\n",
      "text9: The Man Who Was Thursday by G . K . Chesterton 1908\n"
     ]
    }
   ],
   "source": [
    "import nltk\n",
    "nltk.download ('nps_chat') \n",
    "nltk.download('webtext')\n",
    "from nltk.book import *"
   ]
  },
  {
   "cell_type": "markdown",
   "id": "1143404c",
   "metadata": {},
   "source": [
    "# Task 1"
   ]
  },
  {
   "cell_type": "markdown",
   "id": "df17254e",
   "metadata": {},
   "source": [
    "## • words that are hapaxes (unique) and those that occur less than 5 times"
   ]
  },
  {
   "cell_type": "code",
   "execution_count": 106,
   "id": "e0138121",
   "metadata": {},
   "outputs": [
    {
     "name": "stdout",
     "output_type": "stream",
     "text": [
      "hapaxes: ['Sense', 'Sensibility', 'Jane', 'Austen', '1811', ']', 'generations', 'inheritor', 'bequeath', 'Gentleman']\n",
      "less_than_five: ['surrounding', 'provision', 'benefit', 'visits', 'tricks', 'recommendation', 'unless', 'conducted', 'duties', 'romantic']\n"
     ]
    }
   ],
   "source": [
    "import nltk\n",
    "from nltk.book import *\n",
    "import matplotlib.pyplot as plt\n",
    "from nltk import FreqDist, sent_tokenize, word_tokenize\n",
    "import matplotlib.pyplot as plt\n",
    "\n",
    "textN = text2\n",
    "\n",
    "fdist = FreqDist(textN)\n",
    "\n",
    "# hapaxes\n",
    "hapaxes = fdist.hapaxes()\n",
    "\n",
    "# words that occur less than 5 times\n",
    "less_than_five = [word for word in fdist if fdist[word] < 5]\n",
    "\n",
    "print(\"hapaxes:\", hapaxes[:10])\n",
    "print(\"less_than_five:\", less_than_five[:10])"
   ]
  },
  {
   "cell_type": "markdown",
   "id": "9ed56a61",
   "metadata": {},
   "source": [
    "## • draw a plot showing mapping from word length to word frequency"
   ]
  },
  {
   "cell_type": "code",
   "execution_count": 104,
   "id": "7683f9cb",
   "metadata": {},
   "outputs": [
    {
     "data": {
      "image/png": "[encoded data removed]",
      "text/plain": [
       "<Figure size 1000x600 with 1 Axes>"
      ]
     },
     "metadata": {},
     "output_type": "display_data"
    },
    {
     "data": {
      "text/plain": [
       "<Axes: title={'center': 'Word Length vs Frequency'}, xlabel='Samples', ylabel='Counts'>"
      ]
     },
     "execution_count": 104,
     "metadata": {},
     "output_type": "execute_result"
    }
   ],
   "source": [
    "word_lengths = [len(word) for word in fdist]\n",
    "length_freq = FreqDist(word_lengths)\n",
    "\n",
    "# the plot\n",
    "plt.figure(figsize=(10, 6))\n",
    "length_freq.plot(title=\"Word Length vs Frequency\")"
   ]
  },
  {
   "cell_type": "markdown",
   "id": "be52c985",
   "metadata": {},
   "source": [
    "## • find 10 most frequent words occurring at the end of the sentence"
   ]
  },
  {
   "cell_type": "code",
   "execution_count": 133,
   "id": "8f6c235b",
   "metadata": {},
   "outputs": [
    {
     "data": {
      "text/plain": [
       "[('it', 157),\n",
       " ('her', 76),\n",
       " ('him', 67),\n",
       " ('them', 65),\n",
       " ('you', 49),\n",
       " ('me', 42),\n",
       " ('all', 39),\n",
       " ('Marianne', 36),\n",
       " ('sister', 33),\n",
       " ('herself', 30)]"
      ]
     },
     "execution_count": 133,
     "metadata": {},
     "output_type": "execute_result"
    }
   ],
   "source": [
    "from nltk.book import text2\n",
    "import re\n",
    "from nltk import FreqDist\n",
    "\n",
    "text_content = ' '.join(text2)\n",
    "\n",
    "sentences = text_content.split('.')\n",
    "\n",
    "end_words = [re.sub(r'[\\W\\s]+$','', sentence.split()[-1]) for sentence in sentences if sentence]\n",
    "end_words = [word for word in end_words if word not in ['Mr', 'Mrs']]\n",
    "\n",
    "fdist_end_words = FreqDist(end_words)\n",
    "\n",
    "fdist_end_words.most_common(10)"
   ]
  },
  {
   "cell_type": "markdown",
   "id": "8adb7b91",
   "metadata": {},
   "source": [
    "# Task 2"
   ]
  },
  {
   "cell_type": "markdown",
   "id": "011cd589",
   "metadata": {},
   "source": [
    "## Create custom NLTK text. Practice using concordance, similar, dispersion_plot, FreqDist on the resulting text."
   ]
  },
  {
   "cell_type": "code",
   "execution_count": 116,
   "id": "f6c8b904",
   "metadata": {
    "scrolled": true
   },
   "outputs": [
    {
     "name": "stdout",
     "output_type": "stream",
     "text": [
      "Displaying 10 of 10 matches:\n",
      "— Якщо баранець їсть кущі , то він і квіти їсть ? — Баранець їсть усе , що попа\n",
      " їсть усе , що попадеться . — Навіть квіти з колючками ? — Авжеж , навіть квіти\n",
      "квіти з колючками ? — Авжеж , навіть квіти з колючками . — Навіщо ж тоді колючк\n",
      "я : — Колючки ні на що не потрібні , квіти випускають їх просто од злості ! — О\n",
      "в майже сердито : — Я тобі не вірю . Квіти такі кволі . I простодушні . I вони \n",
      "ребив мої думки : — I ти гадаєш , що квіти ... — Де ж пак ! Нічого я не гадаю !\n",
      "I мільйони років баранці все ж їдять квіти . То хіба це не поважна річ — зрозум\n",
      "о принца завше росли звичайні прості квіти — вони мали нерясно пелюсток , місця\n",
      "айпрекрасніше , що є на світі ! — Бо квіти ефемерні . — Як це — ефемерні ? — Кн\n",
      "вражений . — Ми — рожі , — відказали квіти . — Он як ... — сказав маленький при\n"
     ]
    }
   ],
   "source": [
    "f = open('Malenkyj-prync.txt', 'r')\n",
    "raw = f.read()\n",
    "tokens = nltk.word_tokenize(raw)\n",
    "text = nltk.Text(tokens)\n",
    "\n",
    "text.concordance(\"квіти\")"
   ]
  },
  {
   "cell_type": "code",
   "execution_count": 113,
   "id": "5a4fcbff",
   "metadata": {},
   "outputs": [
    {
     "name": "stdout",
     "output_type": "stream",
     "text": [
      "найкращий\n"
     ]
    }
   ],
   "source": [
    "text.similar('дорослий')"
   ]
  },
  {
   "cell_type": "code",
   "execution_count": 114,
   "id": "0e942ecc",
   "metadata": {},
   "outputs": [
    {
     "data": {
      "image/png": "[encoded data removed]",
      "text/plain": [
       "<Figure size 640x480 with 1 Axes>"
      ]
     },
     "metadata": {},
     "output_type": "display_data"
    }
   ],
   "source": [
    "text.dispersion_plot([\"планета\", \"малюнок\", \"сонце\"]) "
   ]
  },
  {
   "cell_type": "code",
   "execution_count": 101,
   "id": "f132b993",
   "metadata": {},
   "outputs": [
    {
     "name": "stdout",
     "output_type": "stream",
     "text": [
      "[('не', 259), ('я', 217), ('і', 182), ('на', 168), ('він', 156), ('що', 152), ('принц', 152), ('Я', 140), ('маленький', 124), ('I', 119)]\n"
     ]
    }
   ],
   "source": [
    "text_no_punctuation = re.sub(r'[^\\w\\s]', '', raw)\n",
    "\n",
    "tokens = word_tokenize(text_no_punctuation)\n",
    "fdist = nltk.FreqDist(tokens)\n",
    "\n",
    "print(fdist.most_common(10))"
   ]
  },
  {
   "cell_type": "markdown",
   "id": "4d53234e",
   "metadata": {},
   "source": [
    "# Task 3"
   ]
  },
  {
   "cell_type": "code",
   "execution_count": 150,
   "id": "c5c52889",
   "metadata": {},
   "outputs": [
    {
     "name": "stdout",
     "output_type": "stream",
     "text": [
      "Float amounts: [80.55, 74.0]\n",
      "Total sum: 154.55\n"
     ]
    }
   ],
   "source": [
    "import re\n",
    "\n",
    "text =  \"The first amount, after applying discount, is $80,55, and the second amount, with a discount, is $74\"\n",
    "amounts = re.findall(r'\\b\\d+,\\d+|\\b\\d+\\b', text)\n",
    "float_amounts = [float(amount.replace(',', '.')) for amount in amounts]\n",
    "print(\"Float amounts:\",float_amounts)\n",
    "\n",
    "total_sum = sum(float_amounts)\n",
    "print(\"Total sum:\", total_sum)"
   ]
  },
  {
   "cell_type": "markdown",
   "id": "bfde071f",
   "metadata": {},
   "source": [
    "# Task 4"
   ]
  },
  {
   "cell_type": "code",
   "execution_count": 136,
   "id": "51b76ac8",
   "metadata": {},
   "outputs": [
    {
     "name": "stdout",
     "output_type": "stream",
     "text": [
      "{\n",
      "    \"HTTPHost\": \"localhost\",\n",
      "    \"HTTPPort\": 8545,\n",
      "    \"Config\": {\n",
      "        \"Enabled\": true,\n",
      "        \"Server\": {\n",
      "            \"name\": \"wakuv2\",\n",
      "            \"type\": \"prod\"\n",
      "        },\n",
      "        \"Nodes\": [\n",
      "            \"168.166.125.145\",\n",
      "            \"9.210.222.831\"\n",
      "        ]\n",
      "    }\n",
      "}\n"
     ]
    }
   ],
   "source": [
    "import re\n",
    "import json\n",
    "\n",
    "json_input = '''\n",
    "{\n",
    "    \"HTTPHost\": \"localhost\",\n",
    "    \"HTTPPort\": 8545,\n",
    "    \"Config\": {\n",
    "        \"Enabled\": true,\n",
    "        \"Server\": \"wakuv2.prod\",\n",
    "        \"Nodes\": [\"8.210.222.231\", \"168.166.125.145\", \"9.210.222.831\", \"8.168.125.145\"]\n",
    "    }\n",
    "}\n",
    "'''\n",
    "json_input = re.sub(r',?\\s*\\\"8\\.\\d+\\.\\d+\\.\\d+\\\"', '', json_input)\n",
    "json_input = re.sub(r'\\[\\s*,', '[', json_input)  # Виправлення випадків з комою на початку масиву\n",
    "\n",
    "json_input = re.sub(r'\"Server\": \"([^\"]+)\\.([^\"]+)\"', r'\"Server\": {\"name\": \"\\1\", \"type\": \"\\2\"}', json_input)\n",
    "data = json.loads(json_input)\n",
    "\n",
    "\n",
    "json_output = json.dumps(data, indent=4)\n",
    "print(json_output)"
   ]
  },
  {
   "cell_type": "code",
   "execution_count": null,
   "id": "4b9c2367",
   "metadata": {},
   "outputs": [],
   "source": []
  }
 ],
 "metadata": {
  "kernelspec": {
   "display_name": "Python 3 (ipykernel)",
   "language": "python",
   "name": "python3"
  },
  "language_info": {
   "codemirror_mode": {
    "name": "ipython",
    "version": 3
   },
   "file_extension": ".py",
   "mimetype": "text/x-python",
   "name": "python",
   "nbconvert_exporter": "python",
   "pygments_lexer": "ipython3",
   "version": "3.11.5"
  }
 },
 "nbformat": 4,
 "nbformat_minor": 5
}
